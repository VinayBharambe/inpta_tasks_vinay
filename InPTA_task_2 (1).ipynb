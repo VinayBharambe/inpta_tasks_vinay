{
  "nbformat": 4,
  "nbformat_minor": 0,
  "metadata": {
    "colab": {
      "provenance": []
    },
    "kernelspec": {
      "name": "python3",
      "display_name": "Python 3"
    },
    "language_info": {
      "name": "python"
    }
  },
  "cells": [
    {
      "cell_type": "code",
      "execution_count": 1,
      "metadata": {
        "id": "iiDgzkyyboJQ"
      },
      "outputs": [],
      "source": [
        "#For Y(nr500)/Y(500)\n",
        "\n",
        "#P(r)= (Po * P_500) / (x^gamma)*(1+x^alpha)^((beta-gamma)/alpha)              same as equation 3\n",
        "\n"
      ]
    },
    {
      "cell_type": "code",
      "source": [
        "#For Ratio most of the constants will be divided in numerator and denominator\n",
        "# Po, P500, 4pi, (c500/r500)^gamma\n",
        "\n",
        "#P500 = 1.65×10−3 *  E(z)^(8/3)  * (M500/3 × 10^14 h(70)^(-1) M.)^(2/3)  * h_(70)^2                                   eqn 4\n",
        "# and E(z) = (C_m / L_m ) * XYZ                                                                                       eqn 2\n",
        "\n",
        "#Both do not have any \"r\" dependence and hence will not affect the ratio of the integrals\n",
        "\n",
        "# we will treat r500 as constant by assuming a value to it."
      ],
      "metadata": {
        "id": "VJZdDbUjueq9"
      },
      "execution_count": 2,
      "outputs": []
    },
    {
      "cell_type": "code",
      "source": [
        "import math\n",
        "import numpy"
      ],
      "metadata": {
        "id": "CSb7nSMYu1P3"
      },
      "execution_count": 3,
      "outputs": []
    },
    {
      "cell_type": "code",
      "source": [
        "alpha=1.0620\n",
        "beta=5.4807\n",
        "gamma=0.3292\n",
        "c500=1.156\n",
        "new=2-gamma\n",
        "\n",
        "#let , it is a constant\n",
        "r500 = 1\n",
        "\n",
        "k=(beta-gamma)/alpha"
      ],
      "metadata": {
        "id": "2zR1rS-gu6rS"
      },
      "execution_count": 4,
      "outputs": []
    },
    {
      "cell_type": "code",
      "source": [
        "#modified P(r) with most constants cut of is\n",
        "\n",
        "\n",
        "#P(r) = 1 / (r^gamma)*(1+(r*c500/r500))^K"
      ],
      "metadata": {
        "id": "d2QXYtjEvRD_"
      },
      "execution_count": 5,
      "outputs": []
    },
    {
      "cell_type": "code",
      "source": [
        "def P(r):\n",
        "\n",
        "  one = pow(r, new)\n",
        "  two = 1 + pow((1.156*r)/r500, alpha)\n",
        "  three= pow(two,k)\n",
        "\n",
        "  return one/three\n"
      ],
      "metadata": {
        "id": "7L2_BLk4_opg"
      },
      "execution_count": 6,
      "outputs": []
    },
    {
      "cell_type": "code",
      "source": [
        "def Y(n):\n",
        "  a = 0\n",
        "  b = n*r500\n",
        "  m = 1000000\n",
        "  s=0\n",
        "  y=0\n",
        "  h = (b-a)/m\n",
        "\n",
        "  for i in range(1,m-1,1):\n",
        "    s = s + P(a+i*h)\n",
        "\n",
        "  y = (P(a)+P(b)+2*s)*h/2.0\n",
        "\n",
        "  return y\n"
      ],
      "metadata": {
        "id": "KhamMPoAI-fM"
      },
      "execution_count": 7,
      "outputs": []
    },
    {
      "cell_type": "code",
      "source": [
        "Y(1)/Y(1)"
      ],
      "metadata": {
        "colab": {
          "base_uri": "https://localhost:8080/"
        },
        "id": "eOBdCUmJ73RT",
        "outputId": "5f0f4074-a6b2-4e0c-ce53-5c438b666c93"
      },
      "execution_count": 8,
      "outputs": [
        {
          "output_type": "execute_result",
          "data": {
            "text/plain": [
              "1.0"
            ]
          },
          "metadata": {},
          "execution_count": 8
        }
      ]
    },
    {
      "cell_type": "code",
      "source": [
        "Y(2)/Y(1)"
      ],
      "metadata": {
        "colab": {
          "base_uri": "https://localhost:8080/"
        },
        "id": "SN3_N5wI_0Og",
        "outputId": "0ea9563f-3534-40ae-d04d-4d3d7820c3b5"
      },
      "execution_count": 9,
      "outputs": [
        {
          "output_type": "execute_result",
          "data": {
            "text/plain": [
              "1.5051760454472258"
            ]
          },
          "metadata": {},
          "execution_count": 9
        }
      ]
    },
    {
      "cell_type": "code",
      "source": [
        "Y(3)/Y(1)"
      ],
      "metadata": {
        "colab": {
          "base_uri": "https://localhost:8080/"
        },
        "id": "1LFDxt6W_4Ff",
        "outputId": "414f1d4f-e72a-4bfa-a134-ba4b88659f94"
      },
      "execution_count": 10,
      "outputs": [
        {
          "output_type": "execute_result",
          "data": {
            "text/plain": [
              "1.6901580688539377"
            ]
          },
          "metadata": {},
          "execution_count": 10
        }
      ]
    },
    {
      "cell_type": "code",
      "source": [
        "Y(5)/Y(1)"
      ],
      "metadata": {
        "colab": {
          "base_uri": "https://localhost:8080/"
        },
        "id": "TOWTIi17_5ey",
        "outputId": "057dcdfa-024d-4434-b82d-27f5db748aa9"
      },
      "execution_count": 11,
      "outputs": [
        {
          "output_type": "execute_result",
          "data": {
            "text/plain": [
              "1.814119735179475"
            ]
          },
          "metadata": {},
          "execution_count": 11
        }
      ]
    },
    {
      "cell_type": "code",
      "source": [
        "Y(10)/Y(1)"
      ],
      "metadata": {
        "colab": {
          "base_uri": "https://localhost:8080/"
        },
        "id": "5a0dxJ9AAJ1f",
        "outputId": "43c00368-c436-446a-d1ec-385c0e433ae4"
      },
      "execution_count": 12,
      "outputs": [
        {
          "output_type": "execute_result",
          "data": {
            "text/plain": [
              "1.87345052344136"
            ]
          },
          "metadata": {},
          "execution_count": 12
        }
      ]
    }
  ]
}